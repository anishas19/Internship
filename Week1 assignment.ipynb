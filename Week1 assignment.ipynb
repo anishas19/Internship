{
 "cells": [
  {
   "cell_type": "code",
   "execution_count": 2,
   "id": "c59cadd3-d6a6-4755-9645-935aeb862bf0",
   "metadata": {},
   "outputs": [
    {
     "name": "stdout",
     "output_type": "stream",
     "text": [
      "* \n",
      "* * \n",
      "* * * \n",
      "* * * * \n",
      "* * * * * \n"
     ]
    }
   ],
   "source": [
    "#LOWER TRIANGLE\n",
    "def lower_triangular(n):\n",
    "    for i in range(1, n+1):\n",
    "        print('* ' * i)\n",
    "\n",
    "lower_triangular(5)"
   ]
  },
  {
   "cell_type": "code",
   "execution_count": 3,
   "id": "fbb2581a-3696-464a-b8ff-d4021df9acd1",
   "metadata": {},
   "outputs": [
    {
     "name": "stdout",
     "output_type": "stream",
     "text": [
      "* * * * * \n",
      "* * * * \n",
      "* * * \n",
      "* * \n",
      "* \n"
     ]
    }
   ],
   "source": [
    "#UPPER TRIANGLE\n",
    "def upper_triangular(n):\n",
    "    for i in range(n, 0, -1):\n",
    "        print('* ' * i)\n",
    "\n",
    "upper_triangular(5)"
   ]
  },
  {
   "cell_type": "code",
   "execution_count": 4,
   "id": "f2d55673-6e1f-4bc7-aef0-1ddfd72617e8",
   "metadata": {},
   "outputs": [
    {
     "name": "stdout",
     "output_type": "stream",
     "text": [
      "    * \n",
      "   * * \n",
      "  * * * \n",
      " * * * * \n",
      "* * * * * \n"
     ]
    }
   ],
   "source": [
    "#PYRAMID\n",
    "def pyramid(n):\n",
    "    for i in range(n):\n",
    "        print(' ' * (n - i - 1) + '* ' * (i + 1))\n",
    "\n",
    "pyramid(5)"
   ]
  },
  {
   "cell_type": "code",
   "execution_count": null,
   "id": "e7adfe0a-c22b-497d-a3ce-d1da915b6903",
   "metadata": {},
   "outputs": [],
   "source": []
  }
 ],
 "metadata": {
  "kernelspec": {
   "display_name": "Python 3 (ipykernel)",
   "language": "python",
   "name": "python3"
  },
  "language_info": {
   "codemirror_mode": {
    "name": "ipython",
    "version": 3
   },
   "file_extension": ".py",
   "mimetype": "text/x-python",
   "name": "python",
   "nbconvert_exporter": "python",
   "pygments_lexer": "ipython3",
   "version": "3.11.5"
  }
 },
 "nbformat": 4,
 "nbformat_minor": 5
}
